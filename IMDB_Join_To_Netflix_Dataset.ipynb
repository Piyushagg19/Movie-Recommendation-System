{
  "nbformat": 4,
  "nbformat_minor": 0,
  "metadata": {
    "colab": {
      "name": "IMDB Join To Netflix Dataset.ipynb",
      "provenance": [],
      "collapsed_sections": []
    },
    "kernelspec": {
      "name": "python3",
      "display_name": "Python 3"
    },
    "language_info": {
      "name": "python"
    },
    "accelerator": "TPU"
  },
  "cells": [
    {
      "cell_type": "code",
      "metadata": {
        "colab": {
          "base_uri": "https://localhost:8080/"
        },
        "id": "MnpGqNC1eaY5",
        "outputId": "4e67249c-8480-4de1-abd5-a5cd8e75fed1"
      },
      "source": [
        "!pip install pyspark"
      ],
      "execution_count": null,
      "outputs": [
        {
          "output_type": "stream",
          "name": "stdout",
          "text": [
            "Collecting pyspark\n",
            "  Downloading pyspark-3.1.2.tar.gz (212.4 MB)\n",
            "\u001b[K     |████████████████████████████████| 212.4 MB 61 kB/s \n",
            "\u001b[?25hCollecting py4j==0.10.9\n",
            "  Downloading py4j-0.10.9-py2.py3-none-any.whl (198 kB)\n",
            "\u001b[K     |████████████████████████████████| 198 kB 51.9 MB/s \n",
            "\u001b[?25hBuilding wheels for collected packages: pyspark\n",
            "  Building wheel for pyspark (setup.py) ... \u001b[?25l\u001b[?25hdone\n",
            "  Created wheel for pyspark: filename=pyspark-3.1.2-py2.py3-none-any.whl size=212880768 sha256=a769357cb7f7721324211e1df184c463f920b755a85632f025ea28d49f3226dd\n",
            "  Stored in directory: /root/.cache/pip/wheels/a5/0a/c1/9561f6fecb759579a7d863dcd846daaa95f598744e71b02c77\n",
            "Successfully built pyspark\n",
            "Installing collected packages: py4j, pyspark\n",
            "Successfully installed py4j-0.10.9 pyspark-3.1.2\n"
          ]
        }
      ]
    },
    {
      "cell_type": "markdown",
      "metadata": {
        "id": "hXxCANAIbKC5"
      },
      "source": [
        "**Merging Datasets**"
      ]
    },
    {
      "cell_type": "code",
      "metadata": {
        "id": "zs7y1FWxbFsD"
      },
      "source": [
        "#import statements\n",
        "from pyspark.sql import SparkSession\n",
        "\n",
        "spark = SparkSession.builder.enableHiveSupport().appName('ReadWriteData').getOrCreate()\n",
        "sc = spark.sparkContext"
      ],
      "execution_count": null,
      "outputs": []
    },
    {
      "cell_type": "code",
      "metadata": {
        "colab": {
          "base_uri": "https://localhost:8080/"
        },
        "id": "wuG6unToepOo",
        "outputId": "821afe94-50f9-4f0e-a866-eee7edc11b15"
      },
      "source": [
        "from pyspark.sql.types import FloatType\n",
        "title_basics = spark.read.csv(\"drive/MyDrive/ADM/title.basics.tsv\", sep=r'\\t', inferSchema=True, header=True)\n",
        "title_basics = title_basics.withColumn(\"startYear\",title_basics[\"startYear\"].cast(FloatType()))\n",
        "title_basics.filter(title_basics.startYear <= 2005.0)"
      ],
      "execution_count": null,
      "outputs": [
        {
          "output_type": "execute_result",
          "data": {
            "text/plain": [
              "DataFrame[tconst: string, titleType: string, primaryTitle: string, originalTitle: string, isAdult: string, startYear: float, endYear: string, runtimeMinutes: string, genres: string]"
            ]
          },
          "metadata": {},
          "execution_count": 3
        }
      ]
    },
    {
      "cell_type": "code",
      "metadata": {
        "id": "IAFkAMtHfHvv"
      },
      "source": [
        "title_crew = spark.read.csv(\"drive/MyDrive/ADM/title.crew.tsv\", sep=r'\\t', inferSchema=True, header=True)"
      ],
      "execution_count": null,
      "outputs": []
    },
    {
      "cell_type": "code",
      "metadata": {
        "id": "KZXmdR_kfXpF"
      },
      "source": [
        "master_data = title_basics.join(title_crew, on = 'tconst')"
      ],
      "execution_count": null,
      "outputs": []
    },
    {
      "cell_type": "code",
      "metadata": {
        "colab": {
          "base_uri": "https://localhost:8080/"
        },
        "id": "x4WKgw3Nfmg_",
        "outputId": "e791e1e2-e52e-4ff5-b826-03c4e2e002c3"
      },
      "source": [
        "title_principals = spark.read.csv(\"drive/MyDrive/ADM/title.principals.tsv\", sep=r'\\t', inferSchema=True, header=True)\n",
        "name_basics = spark.read.csv(\"drive/MyDrive/ADM/name.basics.tsv\", sep=r'\\t', inferSchema=True, header=True)\n",
        "title_principals = title_principals.join(name_basics, on = 'nconst')\n",
        "cols = ['tconst', 'category', 'primaryName']\n",
        "title_principals.select(*cols)"
      ],
      "execution_count": null,
      "outputs": [
        {
          "output_type": "execute_result",
          "data": {
            "text/plain": [
              "DataFrame[tconst: string, category: string, primaryName: string]"
            ]
          },
          "metadata": {},
          "execution_count": 6
        }
      ]
    },
    {
      "cell_type": "code",
      "metadata": {
        "id": "CV93aorMjV44"
      },
      "source": [
        "master_data = master_data.join(title_principals, on = 'tconst')"
      ],
      "execution_count": null,
      "outputs": []
    },
    {
      "cell_type": "code",
      "metadata": {
        "id": "k5kYqrRlj7J8"
      },
      "source": [
        "title_ratings = spark.read.csv(\"drive/MyDrive/ADM/title.ratings.tsv\", sep=r'\\t', inferSchema=True, header=True)"
      ],
      "execution_count": null,
      "outputs": []
    },
    {
      "cell_type": "code",
      "metadata": {
        "id": "uze32II7kDCr"
      },
      "source": [
        "master_data = master_data.join(title_ratings, on = 'tconst')"
      ],
      "execution_count": null,
      "outputs": []
    },
    {
      "cell_type": "code",
      "metadata": {
        "id": "kNiWXDLbkOcW"
      },
      "source": [
        "master_data.write.save('drive/MyDrive/ADM/masterdata.csv', format='csv')"
      ],
      "execution_count": null,
      "outputs": []
    },
    {
      "cell_type": "code",
      "metadata": {
        "id": "qTMng7WTjwzI"
      },
      "source": [
        "netflix_data = spark.read.csv('drive/MyDrive/ADM/movie_c.csv', inferSchema=True, header=False)"
      ],
      "execution_count": null,
      "outputs": []
    },
    {
      "cell_type": "code",
      "metadata": {
        "colab": {
          "base_uri": "https://localhost:8080/"
        },
        "id": "5GkECgtTqOMA",
        "outputId": "f965d55c-6691-41e6-de31-d9a293b8e4dc"
      },
      "source": [
        "# _c0 = movie id\n",
        "# _c1 = customer id\n",
        "# _c2 = rating\n",
        "# _c3 = year\n",
        "# _c4 = movie name\n",
        "netflix_data.show(1)"
      ],
      "execution_count": null,
      "outputs": [
        {
          "output_type": "stream",
          "name": "stdout",
          "text": [
            "+----+-----+---+----+--------------------+\n",
            "| _c0|  _c1|_c2| _c3|                 _c4|\n",
            "+----+-----+---+----+--------------------+\n",
            "|4265|91502|3.0|2002|National Geograph...|\n",
            "+----+-----+---+----+--------------------+\n",
            "only showing top 1 row\n",
            "\n"
          ]
        }
      ]
    },
    {
      "cell_type": "code",
      "metadata": {
        "id": "Un9vZAKmj1Vv"
      },
      "source": [
        "netflix_data = netflix_data.join(master_data, (netflix_data._c4 == master_data.primaryTitle) & (netflix_data._c3 == master_data.startYear))"
      ],
      "execution_count": null,
      "outputs": []
    },
    {
      "cell_type": "code",
      "metadata": {
        "id": "MiEFvTAHqot_"
      },
      "source": [
        "netflix_data.write.csv('drive/MyDrive/ADM/netflixdata.csv', header=True)"
      ],
      "execution_count": null,
      "outputs": []
    },
    {
      "cell_type": "code",
      "metadata": {
        "colab": {
          "base_uri": "https://localhost:8080/"
        },
        "id": "i1VEa_4oq889",
        "outputId": "0ecb6011-66ba-4a96-a46f-3da529b0a918"
      },
      "source": [
        "netflix_data.show(50)"
      ],
      "execution_count": null,
      "outputs": [
        {
          "output_type": "stream",
          "name": "stdout",
          "text": [
            "+---+-------+---+----+--------------------+---------+---------+--------------------+--------------------+-------+---------+-------+--------------+---------------+---------+---------+---------+--------+---------------+--------------------+---------------+--------------+---------+---------+--------------------+--------------------+-------------+--------+\n",
            "|_c0|    _c1|_c2| _c3|                 _c4|   tconst|titleType|        primaryTitle|       originalTitle|isAdult|startYear|endYear|runtimeMinutes|         genres|directors|  writers|   nconst|ordering|       category|                 job|     characters|   primaryName|birthYear|deathYear|   primaryProfession|      knownForTitles|averageRating|numVotes|\n",
            "+---+-------+---+----+--------------------+---------+---------+--------------------+--------------------+-------+---------+-------+--------------+---------------+---------+---------+---------+--------+---------------+--------------------+---------------+--------------+---------+---------+--------------------+--------------------+-------------+--------+\n",
            "|382|1174530|3.0|2004|Buried in the San...|tt0436149|    video|Buried in the San...|Buried in the San...|      0|   2004.0|     \\N|            90|Documentary,War|nm0906996|nm1725376|nm0906996|       5|       director|                  \\N|             \\N|    David Wald|     1969|       \\N| stunts,actor,editor|tt2364582,tt40164...|          4.6|      75|\n",
            "|382|1174530|3.0|2004|Buried in the San...|tt0436149|    video|Buried in the San...|Buried in the San...|      0|   2004.0|     \\N|            90|Documentary,War|nm0906996|nm1725376|nm4285336|       8|cinematographer|director of photo...|             \\N|      J. Smith|       \\N|       \\N|     cinematographer|           tt0436149|          4.6|      75|\n",
            "|382|1174530|3.0|2004|Buried in the San...|tt0436149|    video|Buried in the San...|Buried in the San...|      0|   2004.0|     \\N|            90|Documentary,War|nm0906996|nm1725376|nm1725376|       6|         writer|          written by|             \\N|    Rob Cartee|       \\N|       \\N|producer,actor,wr...|tt0388371,tt03995...|          4.6|      75|\n",
            "|382|1174530|3.0|2004|Buried in the San...|tt0436149|    video|Buried in the San...|Buried in the San...|      0|   2004.0|     \\N|            90|Documentary,War|nm0906996|nm1725376|nm1722109|       1|           self|                  \\N|[\"Self - Host\"]|   Mark Taylor|       \\N|       \\N|                null| tt0284767,tt0436149|          4.6|      75|\n",
            "|382|1174530|3.0|2004|Buried in the San...|tt0436149|    video|Buried in the San...|Buried in the San...|      0|   2004.0|     \\N|            90|Documentary,War|nm0906996|nm1725376|nm0448356|       2|  archive_sound|                  \\N|       [\"Self\"]|   Ted Kennedy|     1932|     2009|                null|tt0092066,tt01087...|          4.6|      75|\n",
            "|382|1174530|3.0|2004|Buried in the San...|tt0436149|    video|Buried in the San...|Buried in the San...|      0|   2004.0|     \\N|            90|Documentary,War|nm0906996|nm1725376|nm0124133|       4|archive_footage|                  \\N|       [\"Self\"]|George W. Bush|     1946|       \\N|camera_department...|tt0115147,tt03128...|          4.6|      75|\n",
            "|382|1174530|3.0|2004|Buried in the San...|tt0436149|    video|Buried in the San...|Buried in the San...|      0|   2004.0|     \\N|            90|Documentary,War|nm0906996|nm1725376|nm0404010|       3|archive_footage|                  \\N|       [\"Self\"]|Saddam Hussein|     1937|     2006|writer,miscellaneous|tt2116857,tt01840...|          4.6|      75|\n",
            "|382|1174530|3.0|2004|Buried in the San...|tt0436149|    video|Buried in the San...|Buried in the San...|      0|   2004.0|     \\N|            90|Documentary,War|nm0906996|nm1725376|nm1784123|       7|       producer|            producer|             \\N|   Barry Marks|       \\N|       \\N|            producer| tt0436149,tt0436452|          4.6|      75|\n",
            "|382| 461110|2.0|2004|Buried in the San...|tt0436149|    video|Buried in the San...|Buried in the San...|      0|   2004.0|     \\N|            90|Documentary,War|nm0906996|nm1725376|nm0906996|       5|       director|                  \\N|             \\N|    David Wald|     1969|       \\N| stunts,actor,editor|tt2364582,tt40164...|          4.6|      75|\n",
            "|382| 461110|2.0|2004|Buried in the San...|tt0436149|    video|Buried in the San...|Buried in the San...|      0|   2004.0|     \\N|            90|Documentary,War|nm0906996|nm1725376|nm4285336|       8|cinematographer|director of photo...|             \\N|      J. Smith|       \\N|       \\N|     cinematographer|           tt0436149|          4.6|      75|\n",
            "|382| 461110|2.0|2004|Buried in the San...|tt0436149|    video|Buried in the San...|Buried in the San...|      0|   2004.0|     \\N|            90|Documentary,War|nm0906996|nm1725376|nm1725376|       6|         writer|          written by|             \\N|    Rob Cartee|       \\N|       \\N|producer,actor,wr...|tt0388371,tt03995...|          4.6|      75|\n",
            "|382| 461110|2.0|2004|Buried in the San...|tt0436149|    video|Buried in the San...|Buried in the San...|      0|   2004.0|     \\N|            90|Documentary,War|nm0906996|nm1725376|nm1722109|       1|           self|                  \\N|[\"Self - Host\"]|   Mark Taylor|       \\N|       \\N|                null| tt0284767,tt0436149|          4.6|      75|\n",
            "|382| 461110|2.0|2004|Buried in the San...|tt0436149|    video|Buried in the San...|Buried in the San...|      0|   2004.0|     \\N|            90|Documentary,War|nm0906996|nm1725376|nm0448356|       2|  archive_sound|                  \\N|       [\"Self\"]|   Ted Kennedy|     1932|     2009|                null|tt0092066,tt01087...|          4.6|      75|\n",
            "|382| 461110|2.0|2004|Buried in the San...|tt0436149|    video|Buried in the San...|Buried in the San...|      0|   2004.0|     \\N|            90|Documentary,War|nm0906996|nm1725376|nm0124133|       4|archive_footage|                  \\N|       [\"Self\"]|George W. Bush|     1946|       \\N|camera_department...|tt0115147,tt03128...|          4.6|      75|\n",
            "|382| 461110|2.0|2004|Buried in the San...|tt0436149|    video|Buried in the San...|Buried in the San...|      0|   2004.0|     \\N|            90|Documentary,War|nm0906996|nm1725376|nm0404010|       3|archive_footage|                  \\N|       [\"Self\"]|Saddam Hussein|     1937|     2006|writer,miscellaneous|tt2116857,tt01840...|          4.6|      75|\n",
            "|382| 461110|2.0|2004|Buried in the San...|tt0436149|    video|Buried in the San...|Buried in the San...|      0|   2004.0|     \\N|            90|Documentary,War|nm0906996|nm1725376|nm1784123|       7|       producer|            producer|             \\N|   Barry Marks|       \\N|       \\N|            producer| tt0436149,tt0436452|          4.6|      75|\n",
            "|382|1435515|1.0|2004|Buried in the San...|tt0436149|    video|Buried in the San...|Buried in the San...|      0|   2004.0|     \\N|            90|Documentary,War|nm0906996|nm1725376|nm0906996|       5|       director|                  \\N|             \\N|    David Wald|     1969|       \\N| stunts,actor,editor|tt2364582,tt40164...|          4.6|      75|\n",
            "|382|1435515|1.0|2004|Buried in the San...|tt0436149|    video|Buried in the San...|Buried in the San...|      0|   2004.0|     \\N|            90|Documentary,War|nm0906996|nm1725376|nm4285336|       8|cinematographer|director of photo...|             \\N|      J. Smith|       \\N|       \\N|     cinematographer|           tt0436149|          4.6|      75|\n",
            "|382|1435515|1.0|2004|Buried in the San...|tt0436149|    video|Buried in the San...|Buried in the San...|      0|   2004.0|     \\N|            90|Documentary,War|nm0906996|nm1725376|nm1725376|       6|         writer|          written by|             \\N|    Rob Cartee|       \\N|       \\N|producer,actor,wr...|tt0388371,tt03995...|          4.6|      75|\n",
            "|382|1435515|1.0|2004|Buried in the San...|tt0436149|    video|Buried in the San...|Buried in the San...|      0|   2004.0|     \\N|            90|Documentary,War|nm0906996|nm1725376|nm1722109|       1|           self|                  \\N|[\"Self - Host\"]|   Mark Taylor|       \\N|       \\N|                null| tt0284767,tt0436149|          4.6|      75|\n",
            "|382|1435515|1.0|2004|Buried in the San...|tt0436149|    video|Buried in the San...|Buried in the San...|      0|   2004.0|     \\N|            90|Documentary,War|nm0906996|nm1725376|nm0448356|       2|  archive_sound|                  \\N|       [\"Self\"]|   Ted Kennedy|     1932|     2009|                null|tt0092066,tt01087...|          4.6|      75|\n",
            "|382|1435515|1.0|2004|Buried in the San...|tt0436149|    video|Buried in the San...|Buried in the San...|      0|   2004.0|     \\N|            90|Documentary,War|nm0906996|nm1725376|nm0124133|       4|archive_footage|                  \\N|       [\"Self\"]|George W. Bush|     1946|       \\N|camera_department...|tt0115147,tt03128...|          4.6|      75|\n",
            "|382|1435515|1.0|2004|Buried in the San...|tt0436149|    video|Buried in the San...|Buried in the San...|      0|   2004.0|     \\N|            90|Documentary,War|nm0906996|nm1725376|nm0404010|       3|archive_footage|                  \\N|       [\"Self\"]|Saddam Hussein|     1937|     2006|writer,miscellaneous|tt2116857,tt01840...|          4.6|      75|\n",
            "|382|1435515|1.0|2004|Buried in the San...|tt0436149|    video|Buried in the San...|Buried in the San...|      0|   2004.0|     \\N|            90|Documentary,War|nm0906996|nm1725376|nm1784123|       7|       producer|            producer|             \\N|   Barry Marks|       \\N|       \\N|            producer| tt0436149,tt0436452|          4.6|      75|\n",
            "|382|1382412|2.0|2004|Buried in the San...|tt0436149|    video|Buried in the San...|Buried in the San...|      0|   2004.0|     \\N|            90|Documentary,War|nm0906996|nm1725376|nm0906996|       5|       director|                  \\N|             \\N|    David Wald|     1969|       \\N| stunts,actor,editor|tt2364582,tt40164...|          4.6|      75|\n",
            "|382|1382412|2.0|2004|Buried in the San...|tt0436149|    video|Buried in the San...|Buried in the San...|      0|   2004.0|     \\N|            90|Documentary,War|nm0906996|nm1725376|nm4285336|       8|cinematographer|director of photo...|             \\N|      J. Smith|       \\N|       \\N|     cinematographer|           tt0436149|          4.6|      75|\n",
            "|382|1382412|2.0|2004|Buried in the San...|tt0436149|    video|Buried in the San...|Buried in the San...|      0|   2004.0|     \\N|            90|Documentary,War|nm0906996|nm1725376|nm1725376|       6|         writer|          written by|             \\N|    Rob Cartee|       \\N|       \\N|producer,actor,wr...|tt0388371,tt03995...|          4.6|      75|\n",
            "|382|1382412|2.0|2004|Buried in the San...|tt0436149|    video|Buried in the San...|Buried in the San...|      0|   2004.0|     \\N|            90|Documentary,War|nm0906996|nm1725376|nm1722109|       1|           self|                  \\N|[\"Self - Host\"]|   Mark Taylor|       \\N|       \\N|                null| tt0284767,tt0436149|          4.6|      75|\n",
            "|382|1382412|2.0|2004|Buried in the San...|tt0436149|    video|Buried in the San...|Buried in the San...|      0|   2004.0|     \\N|            90|Documentary,War|nm0906996|nm1725376|nm0448356|       2|  archive_sound|                  \\N|       [\"Self\"]|   Ted Kennedy|     1932|     2009|                null|tt0092066,tt01087...|          4.6|      75|\n",
            "|382|1382412|2.0|2004|Buried in the San...|tt0436149|    video|Buried in the San...|Buried in the San...|      0|   2004.0|     \\N|            90|Documentary,War|nm0906996|nm1725376|nm0124133|       4|archive_footage|                  \\N|       [\"Self\"]|George W. Bush|     1946|       \\N|camera_department...|tt0115147,tt03128...|          4.6|      75|\n",
            "|382|1382412|2.0|2004|Buried in the San...|tt0436149|    video|Buried in the San...|Buried in the San...|      0|   2004.0|     \\N|            90|Documentary,War|nm0906996|nm1725376|nm0404010|       3|archive_footage|                  \\N|       [\"Self\"]|Saddam Hussein|     1937|     2006|writer,miscellaneous|tt2116857,tt01840...|          4.6|      75|\n",
            "|382|1382412|2.0|2004|Buried in the San...|tt0436149|    video|Buried in the San...|Buried in the San...|      0|   2004.0|     \\N|            90|Documentary,War|nm0906996|nm1725376|nm1784123|       7|       producer|            producer|             \\N|   Barry Marks|       \\N|       \\N|            producer| tt0436149,tt0436452|          4.6|      75|\n",
            "|382| 771292|3.0|2004|Buried in the San...|tt0436149|    video|Buried in the San...|Buried in the San...|      0|   2004.0|     \\N|            90|Documentary,War|nm0906996|nm1725376|nm0906996|       5|       director|                  \\N|             \\N|    David Wald|     1969|       \\N| stunts,actor,editor|tt2364582,tt40164...|          4.6|      75|\n",
            "|382| 771292|3.0|2004|Buried in the San...|tt0436149|    video|Buried in the San...|Buried in the San...|      0|   2004.0|     \\N|            90|Documentary,War|nm0906996|nm1725376|nm4285336|       8|cinematographer|director of photo...|             \\N|      J. Smith|       \\N|       \\N|     cinematographer|           tt0436149|          4.6|      75|\n",
            "|382| 771292|3.0|2004|Buried in the San...|tt0436149|    video|Buried in the San...|Buried in the San...|      0|   2004.0|     \\N|            90|Documentary,War|nm0906996|nm1725376|nm1725376|       6|         writer|          written by|             \\N|    Rob Cartee|       \\N|       \\N|producer,actor,wr...|tt0388371,tt03995...|          4.6|      75|\n",
            "|382| 771292|3.0|2004|Buried in the San...|tt0436149|    video|Buried in the San...|Buried in the San...|      0|   2004.0|     \\N|            90|Documentary,War|nm0906996|nm1725376|nm1722109|       1|           self|                  \\N|[\"Self - Host\"]|   Mark Taylor|       \\N|       \\N|                null| tt0284767,tt0436149|          4.6|      75|\n",
            "|382| 771292|3.0|2004|Buried in the San...|tt0436149|    video|Buried in the San...|Buried in the San...|      0|   2004.0|     \\N|            90|Documentary,War|nm0906996|nm1725376|nm0448356|       2|  archive_sound|                  \\N|       [\"Self\"]|   Ted Kennedy|     1932|     2009|                null|tt0092066,tt01087...|          4.6|      75|\n",
            "|382| 771292|3.0|2004|Buried in the San...|tt0436149|    video|Buried in the San...|Buried in the San...|      0|   2004.0|     \\N|            90|Documentary,War|nm0906996|nm1725376|nm0124133|       4|archive_footage|                  \\N|       [\"Self\"]|George W. Bush|     1946|       \\N|camera_department...|tt0115147,tt03128...|          4.6|      75|\n",
            "|382| 771292|3.0|2004|Buried in the San...|tt0436149|    video|Buried in the San...|Buried in the San...|      0|   2004.0|     \\N|            90|Documentary,War|nm0906996|nm1725376|nm0404010|       3|archive_footage|                  \\N|       [\"Self\"]|Saddam Hussein|     1937|     2006|writer,miscellaneous|tt2116857,tt01840...|          4.6|      75|\n",
            "|382| 771292|3.0|2004|Buried in the San...|tt0436149|    video|Buried in the San...|Buried in the San...|      0|   2004.0|     \\N|            90|Documentary,War|nm0906996|nm1725376|nm1784123|       7|       producer|            producer|             \\N|   Barry Marks|       \\N|       \\N|            producer| tt0436149,tt0436452|          4.6|      75|\n",
            "|382| 530670|2.0|2004|Buried in the San...|tt0436149|    video|Buried in the San...|Buried in the San...|      0|   2004.0|     \\N|            90|Documentary,War|nm0906996|nm1725376|nm0906996|       5|       director|                  \\N|             \\N|    David Wald|     1969|       \\N| stunts,actor,editor|tt2364582,tt40164...|          4.6|      75|\n",
            "|382| 530670|2.0|2004|Buried in the San...|tt0436149|    video|Buried in the San...|Buried in the San...|      0|   2004.0|     \\N|            90|Documentary,War|nm0906996|nm1725376|nm4285336|       8|cinematographer|director of photo...|             \\N|      J. Smith|       \\N|       \\N|     cinematographer|           tt0436149|          4.6|      75|\n",
            "|382| 530670|2.0|2004|Buried in the San...|tt0436149|    video|Buried in the San...|Buried in the San...|      0|   2004.0|     \\N|            90|Documentary,War|nm0906996|nm1725376|nm1725376|       6|         writer|          written by|             \\N|    Rob Cartee|       \\N|       \\N|producer,actor,wr...|tt0388371,tt03995...|          4.6|      75|\n",
            "|382| 530670|2.0|2004|Buried in the San...|tt0436149|    video|Buried in the San...|Buried in the San...|      0|   2004.0|     \\N|            90|Documentary,War|nm0906996|nm1725376|nm1722109|       1|           self|                  \\N|[\"Self - Host\"]|   Mark Taylor|       \\N|       \\N|                null| tt0284767,tt0436149|          4.6|      75|\n",
            "|382| 530670|2.0|2004|Buried in the San...|tt0436149|    video|Buried in the San...|Buried in the San...|      0|   2004.0|     \\N|            90|Documentary,War|nm0906996|nm1725376|nm0448356|       2|  archive_sound|                  \\N|       [\"Self\"]|   Ted Kennedy|     1932|     2009|                null|tt0092066,tt01087...|          4.6|      75|\n",
            "|382| 530670|2.0|2004|Buried in the San...|tt0436149|    video|Buried in the San...|Buried in the San...|      0|   2004.0|     \\N|            90|Documentary,War|nm0906996|nm1725376|nm0124133|       4|archive_footage|                  \\N|       [\"Self\"]|George W. Bush|     1946|       \\N|camera_department...|tt0115147,tt03128...|          4.6|      75|\n",
            "|382| 530670|2.0|2004|Buried in the San...|tt0436149|    video|Buried in the San...|Buried in the San...|      0|   2004.0|     \\N|            90|Documentary,War|nm0906996|nm1725376|nm0404010|       3|archive_footage|                  \\N|       [\"Self\"]|Saddam Hussein|     1937|     2006|writer,miscellaneous|tt2116857,tt01840...|          4.6|      75|\n",
            "|382| 530670|2.0|2004|Buried in the San...|tt0436149|    video|Buried in the San...|Buried in the San...|      0|   2004.0|     \\N|            90|Documentary,War|nm0906996|nm1725376|nm1784123|       7|       producer|            producer|             \\N|   Barry Marks|       \\N|       \\N|            producer| tt0436149,tt0436452|          4.6|      75|\n",
            "|382|1559022|3.0|2004|Buried in the San...|tt0436149|    video|Buried in the San...|Buried in the San...|      0|   2004.0|     \\N|            90|Documentary,War|nm0906996|nm1725376|nm0906996|       5|       director|                  \\N|             \\N|    David Wald|     1969|       \\N| stunts,actor,editor|tt2364582,tt40164...|          4.6|      75|\n",
            "|382|1559022|3.0|2004|Buried in the San...|tt0436149|    video|Buried in the San...|Buried in the San...|      0|   2004.0|     \\N|            90|Documentary,War|nm0906996|nm1725376|nm4285336|       8|cinematographer|director of photo...|             \\N|      J. Smith|       \\N|       \\N|     cinematographer|           tt0436149|          4.6|      75|\n",
            "+---+-------+---+----+--------------------+---------+---------+--------------------+--------------------+-------+---------+-------+--------------+---------------+---------+---------+---------+--------+---------------+--------------------+---------------+--------------+---------+---------+--------------------+--------------------+-------------+--------+\n",
            "only showing top 50 rows\n",
            "\n"
          ]
        }
      ]
    },
    {
      "cell_type": "code",
      "metadata": {
        "colab": {
          "base_uri": "https://localhost:8080/",
          "height": 1000
        },
        "id": "42jTcagKH67G",
        "outputId": "4ed97b7a-96a7-4840-d60c-a806a74fa239"
      },
      "source": [
        "netflix_data.toPandas().to_csv('drive/MyDrive/ADM/netflixdata_pandas.csv', header=True, index=False)"
      ],
      "execution_count": null,
      "outputs": [
        {
          "output_type": "error",
          "ename": "Py4JJavaError",
          "evalue": "ignored",
          "traceback": [
            "\u001b[0;31m---------------------------------------------------------------------------\u001b[0m",
            "\u001b[0;31mPy4JJavaError\u001b[0m                             Traceback (most recent call last)",
            "\u001b[0;32m<ipython-input-22-f8391fd18cdc>\u001b[0m in \u001b[0;36m<module>\u001b[0;34m()\u001b[0m\n\u001b[0;32m----> 1\u001b[0;31m \u001b[0mnetflix_data\u001b[0m\u001b[0;34m.\u001b[0m\u001b[0mtoPandas\u001b[0m\u001b[0;34m(\u001b[0m\u001b[0;34m)\u001b[0m\u001b[0;34m.\u001b[0m\u001b[0mto_csv\u001b[0m\u001b[0;34m(\u001b[0m\u001b[0;34m'drive/MyDrive/ADM/netflixdata_pandas.csv'\u001b[0m\u001b[0;34m,\u001b[0m \u001b[0mheader\u001b[0m\u001b[0;34m=\u001b[0m\u001b[0;32mTrue\u001b[0m\u001b[0;34m,\u001b[0m \u001b[0mindex\u001b[0m\u001b[0;34m=\u001b[0m\u001b[0;32mFalse\u001b[0m\u001b[0;34m)\u001b[0m\u001b[0;34m\u001b[0m\u001b[0;34m\u001b[0m\u001b[0m\n\u001b[0m",
            "\u001b[0;32m/usr/local/lib/python3.7/dist-packages/pyspark/sql/pandas/conversion.py\u001b[0m in \u001b[0;36mtoPandas\u001b[0;34m(self)\u001b[0m\n\u001b[1;32m    139\u001b[0m \u001b[0;34m\u001b[0m\u001b[0m\n\u001b[1;32m    140\u001b[0m         \u001b[0;31m# Below is toPandas without Arrow optimization.\u001b[0m\u001b[0;34m\u001b[0m\u001b[0;34m\u001b[0m\u001b[0;34m\u001b[0m\u001b[0m\n\u001b[0;32m--> 141\u001b[0;31m         \u001b[0mpdf\u001b[0m \u001b[0;34m=\u001b[0m \u001b[0mpd\u001b[0m\u001b[0;34m.\u001b[0m\u001b[0mDataFrame\u001b[0m\u001b[0;34m.\u001b[0m\u001b[0mfrom_records\u001b[0m\u001b[0;34m(\u001b[0m\u001b[0mself\u001b[0m\u001b[0;34m.\u001b[0m\u001b[0mcollect\u001b[0m\u001b[0;34m(\u001b[0m\u001b[0;34m)\u001b[0m\u001b[0;34m,\u001b[0m \u001b[0mcolumns\u001b[0m\u001b[0;34m=\u001b[0m\u001b[0mself\u001b[0m\u001b[0;34m.\u001b[0m\u001b[0mcolumns\u001b[0m\u001b[0;34m)\u001b[0m\u001b[0;34m\u001b[0m\u001b[0;34m\u001b[0m\u001b[0m\n\u001b[0m\u001b[1;32m    142\u001b[0m         \u001b[0mcolumn_counter\u001b[0m \u001b[0;34m=\u001b[0m \u001b[0mCounter\u001b[0m\u001b[0;34m(\u001b[0m\u001b[0mself\u001b[0m\u001b[0;34m.\u001b[0m\u001b[0mcolumns\u001b[0m\u001b[0;34m)\u001b[0m\u001b[0;34m\u001b[0m\u001b[0;34m\u001b[0m\u001b[0m\n\u001b[1;32m    143\u001b[0m \u001b[0;34m\u001b[0m\u001b[0m\n",
            "\u001b[0;32m/usr/local/lib/python3.7/dist-packages/pyspark/sql/dataframe.py\u001b[0m in \u001b[0;36mcollect\u001b[0;34m(self)\u001b[0m\n\u001b[1;32m    675\u001b[0m         \"\"\"\n\u001b[1;32m    676\u001b[0m         \u001b[0;32mwith\u001b[0m \u001b[0mSCCallSiteSync\u001b[0m\u001b[0;34m(\u001b[0m\u001b[0mself\u001b[0m\u001b[0;34m.\u001b[0m\u001b[0m_sc\u001b[0m\u001b[0;34m)\u001b[0m \u001b[0;32mas\u001b[0m \u001b[0mcss\u001b[0m\u001b[0;34m:\u001b[0m\u001b[0;34m\u001b[0m\u001b[0;34m\u001b[0m\u001b[0m\n\u001b[0;32m--> 677\u001b[0;31m             \u001b[0msock_info\u001b[0m \u001b[0;34m=\u001b[0m \u001b[0mself\u001b[0m\u001b[0;34m.\u001b[0m\u001b[0m_jdf\u001b[0m\u001b[0;34m.\u001b[0m\u001b[0mcollectToPython\u001b[0m\u001b[0;34m(\u001b[0m\u001b[0;34m)\u001b[0m\u001b[0;34m\u001b[0m\u001b[0;34m\u001b[0m\u001b[0m\n\u001b[0m\u001b[1;32m    678\u001b[0m         \u001b[0;32mreturn\u001b[0m \u001b[0mlist\u001b[0m\u001b[0;34m(\u001b[0m\u001b[0m_load_from_socket\u001b[0m\u001b[0;34m(\u001b[0m\u001b[0msock_info\u001b[0m\u001b[0;34m,\u001b[0m \u001b[0mBatchedSerializer\u001b[0m\u001b[0;34m(\u001b[0m\u001b[0mPickleSerializer\u001b[0m\u001b[0;34m(\u001b[0m\u001b[0;34m)\u001b[0m\u001b[0;34m)\u001b[0m\u001b[0;34m)\u001b[0m\u001b[0;34m)\u001b[0m\u001b[0;34m\u001b[0m\u001b[0;34m\u001b[0m\u001b[0m\n\u001b[1;32m    679\u001b[0m \u001b[0;34m\u001b[0m\u001b[0m\n",
            "\u001b[0;32m/usr/local/lib/python3.7/dist-packages/py4j/java_gateway.py\u001b[0m in \u001b[0;36m__call__\u001b[0;34m(self, *args)\u001b[0m\n\u001b[1;32m   1303\u001b[0m         \u001b[0manswer\u001b[0m \u001b[0;34m=\u001b[0m \u001b[0mself\u001b[0m\u001b[0;34m.\u001b[0m\u001b[0mgateway_client\u001b[0m\u001b[0;34m.\u001b[0m\u001b[0msend_command\u001b[0m\u001b[0;34m(\u001b[0m\u001b[0mcommand\u001b[0m\u001b[0;34m)\u001b[0m\u001b[0;34m\u001b[0m\u001b[0;34m\u001b[0m\u001b[0m\n\u001b[1;32m   1304\u001b[0m         return_value = get_return_value(\n\u001b[0;32m-> 1305\u001b[0;31m             answer, self.gateway_client, self.target_id, self.name)\n\u001b[0m\u001b[1;32m   1306\u001b[0m \u001b[0;34m\u001b[0m\u001b[0m\n\u001b[1;32m   1307\u001b[0m         \u001b[0;32mfor\u001b[0m \u001b[0mtemp_arg\u001b[0m \u001b[0;32min\u001b[0m \u001b[0mtemp_args\u001b[0m\u001b[0;34m:\u001b[0m\u001b[0;34m\u001b[0m\u001b[0;34m\u001b[0m\u001b[0m\n",
            "\u001b[0;32m/usr/local/lib/python3.7/dist-packages/pyspark/sql/utils.py\u001b[0m in \u001b[0;36mdeco\u001b[0;34m(*a, **kw)\u001b[0m\n\u001b[1;32m    109\u001b[0m     \u001b[0;32mdef\u001b[0m \u001b[0mdeco\u001b[0m\u001b[0;34m(\u001b[0m\u001b[0;34m*\u001b[0m\u001b[0ma\u001b[0m\u001b[0;34m,\u001b[0m \u001b[0;34m**\u001b[0m\u001b[0mkw\u001b[0m\u001b[0;34m)\u001b[0m\u001b[0;34m:\u001b[0m\u001b[0;34m\u001b[0m\u001b[0;34m\u001b[0m\u001b[0m\n\u001b[1;32m    110\u001b[0m         \u001b[0;32mtry\u001b[0m\u001b[0;34m:\u001b[0m\u001b[0;34m\u001b[0m\u001b[0;34m\u001b[0m\u001b[0m\n\u001b[0;32m--> 111\u001b[0;31m             \u001b[0;32mreturn\u001b[0m \u001b[0mf\u001b[0m\u001b[0;34m(\u001b[0m\u001b[0;34m*\u001b[0m\u001b[0ma\u001b[0m\u001b[0;34m,\u001b[0m \u001b[0;34m**\u001b[0m\u001b[0mkw\u001b[0m\u001b[0;34m)\u001b[0m\u001b[0;34m\u001b[0m\u001b[0;34m\u001b[0m\u001b[0m\n\u001b[0m\u001b[1;32m    112\u001b[0m         \u001b[0;32mexcept\u001b[0m \u001b[0mpy4j\u001b[0m\u001b[0;34m.\u001b[0m\u001b[0mprotocol\u001b[0m\u001b[0;34m.\u001b[0m\u001b[0mPy4JJavaError\u001b[0m \u001b[0;32mas\u001b[0m \u001b[0me\u001b[0m\u001b[0;34m:\u001b[0m\u001b[0;34m\u001b[0m\u001b[0;34m\u001b[0m\u001b[0m\n\u001b[1;32m    113\u001b[0m             \u001b[0mconverted\u001b[0m \u001b[0;34m=\u001b[0m \u001b[0mconvert_exception\u001b[0m\u001b[0;34m(\u001b[0m\u001b[0me\u001b[0m\u001b[0;34m.\u001b[0m\u001b[0mjava_exception\u001b[0m\u001b[0;34m)\u001b[0m\u001b[0;34m\u001b[0m\u001b[0;34m\u001b[0m\u001b[0m\n",
            "\u001b[0;32m/usr/local/lib/python3.7/dist-packages/py4j/protocol.py\u001b[0m in \u001b[0;36mget_return_value\u001b[0;34m(answer, gateway_client, target_id, name)\u001b[0m\n\u001b[1;32m    326\u001b[0m                 raise Py4JJavaError(\n\u001b[1;32m    327\u001b[0m                     \u001b[0;34m\"An error occurred while calling {0}{1}{2}.\\n\"\u001b[0m\u001b[0;34m.\u001b[0m\u001b[0;34m\u001b[0m\u001b[0;34m\u001b[0m\u001b[0m\n\u001b[0;32m--> 328\u001b[0;31m                     format(target_id, \".\", name), value)\n\u001b[0m\u001b[1;32m    329\u001b[0m             \u001b[0;32melse\u001b[0m\u001b[0;34m:\u001b[0m\u001b[0;34m\u001b[0m\u001b[0;34m\u001b[0m\u001b[0m\n\u001b[1;32m    330\u001b[0m                 raise Py4JError(\n",
            "\u001b[0;31mPy4JJavaError\u001b[0m: An error occurred while calling o150.collectToPython.\n: org.apache.spark.SparkException: Job aborted due to stage failure: Task 1 in stage 48.0 failed 1 times, most recent failure: Lost task 1.0 in stage 48.0 (TID 2140) (b841883b8ba5 executor driver): java.lang.OutOfMemoryError: Java heap space\n\tat java.base/java.util.Arrays.copyOf(Arrays.java:3745)\n\tat java.base/java.io.ByteArrayOutputStream.grow(ByteArrayOutputStream.java:120)\n\tat java.base/java.io.ByteArrayOutputStream.ensureCapacity(ByteArrayOutputStream.java:95)\n\tat java.base/java.io.ByteArrayOutputStream.write(ByteArrayOutputStream.java:156)\n\tat org.apache.spark.util.ByteBufferOutputStream.write(ByteBufferOutputStream.scala:41)\n\tat java.base/java.io.ObjectOutputStream$BlockDataOutputStream.drain(ObjectOutputStream.java:1883)\n\tat java.base/java.io.ObjectOutputStream$BlockDataOutputStream.setBlockDataMode(ObjectOutputStream.java:1792)\n\tat java.base/java.io.ObjectOutputStream.writeObject0(ObjectOutputStream.java:1190)\n\tat java.base/java.io.ObjectOutputStream.writeObject(ObjectOutputStream.java:349)\n\tat org.apache.spark.serializer.JavaSerializationStream.writeObject(JavaSerializer.scala:44)\n\tat org.apache.spark.serializer.JavaSerializerInstance.serialize(JavaSerializer.scala:101)\n\tat org.apache.spark.executor.Executor$TaskRunner.run(Executor.scala:542)\n\tat java.base/java.util.concurrent.ThreadPoolExecutor.runWorker(ThreadPoolExecutor.java:1128)\n\tat java.base/java.util.concurrent.ThreadPoolExecutor$Worker.run(ThreadPoolExecutor.java:628)\n\tat java.base/java.lang.Thread.run(Thread.java:829)\n\nDriver stacktrace:\n\tat org.apache.spark.scheduler.DAGScheduler.failJobAndIndependentStages(DAGScheduler.scala:2258)\n\tat org.apache.spark.scheduler.DAGScheduler.$anonfun$abortStage$2(DAGScheduler.scala:2207)\n\tat org.apache.spark.scheduler.DAGScheduler.$anonfun$abortStage$2$adapted(DAGScheduler.scala:2206)\n\tat scala.collection.mutable.ResizableArray.foreach(ResizableArray.scala:62)\n\tat scala.collection.mutable.ResizableArray.foreach$(ResizableArray.scala:55)\n\tat scala.collection.mutable.ArrayBuffer.foreach(ArrayBuffer.scala:49)\n\tat org.apache.spark.scheduler.DAGScheduler.abortStage(DAGScheduler.scala:2206)\n\tat org.apache.spark.scheduler.DAGScheduler.$anonfun$handleTaskSetFailed$1(DAGScheduler.scala:1079)\n\tat org.apache.spark.scheduler.DAGScheduler.$anonfun$handleTaskSetFailed$1$adapted(DAGScheduler.scala:1079)\n\tat scala.Option.foreach(Option.scala:407)\n\tat org.apache.spark.scheduler.DAGScheduler.handleTaskSetFailed(DAGScheduler.scala:1079)\n\tat org.apache.spark.scheduler.DAGSchedulerEventProcessLoop.doOnReceive(DAGScheduler.scala:2445)\n\tat org.apache.spark.scheduler.DAGSchedulerEventProcessLoop.onReceive(DAGScheduler.scala:2387)\n\tat org.apache.spark.scheduler.DAGSchedulerEventProcessLoop.onReceive(DAGScheduler.scala:2376)\n\tat org.apache.spark.util.EventLoop$$anon$1.run(EventLoop.scala:49)\n\tat org.apache.spark.scheduler.DAGScheduler.runJob(DAGScheduler.scala:868)\n\tat org.apache.spark.SparkContext.runJob(SparkContext.scala:2196)\n\tat org.apache.spark.SparkContext.runJob(SparkContext.scala:2217)\n\tat org.apache.spark.SparkContext.runJob(SparkContext.scala:2236)\n\tat org.apache.spark.SparkContext.runJob(SparkContext.scala:2261)\n\tat org.apache.spark.rdd.RDD.$anonfun$collect$1(RDD.scala:1030)\n\tat org.apache.spark.rdd.RDDOperationScope$.withScope(RDDOperationScope.scala:151)\n\tat org.apache.spark.rdd.RDDOperationScope$.withScope(RDDOperationScope.scala:112)\n\tat org.apache.spark.rdd.RDD.withScope(RDD.scala:414)\n\tat org.apache.spark.rdd.RDD.collect(RDD.scala:1029)\n\tat org.apache.spark.sql.execution.SparkPlan.executeCollect(SparkPlan.scala:390)\n\tat org.apache.spark.sql.Dataset.$anonfun$collectToPython$1(Dataset.scala:3519)\n\tat org.apache.spark.sql.Dataset.$anonfun$withAction$1(Dataset.scala:3687)\n\tat org.apache.spark.sql.execution.SQLExecution$.$anonfun$withNewExecutionId$5(SQLExecution.scala:103)\n\tat org.apache.spark.sql.execution.SQLExecution$.withSQLConfPropagated(SQLExecution.scala:163)\n\tat org.apache.spark.sql.execution.SQLExecution$.$anonfun$withNewExecutionId$1(SQLExecution.scala:90)\n\tat org.apache.spark.sql.SparkSession.withActive(SparkSession.scala:775)\n\tat org.apache.spark.sql.execution.SQLExecution$.withNewExecutionId(SQLExecution.scala:64)\n\tat org.apache.spark.sql.Dataset.withAction(Dataset.scala:3685)\n\tat org.apache.spark.sql.Dataset.collectToPython(Dataset.scala:3516)\n\tat java.base/jdk.internal.reflect.NativeMethodAccessorImpl.invoke0(Native Method)\n\tat java.base/jdk.internal.reflect.NativeMethodAccessorImpl.invoke(NativeMethodAccessorImpl.java:62)\n\tat java.base/jdk.internal.reflect.DelegatingMethodAccessorImpl.invoke(DelegatingMethodAccessorImpl.java:43)\n\tat java.base/java.lang.reflect.Method.invoke(Method.java:566)\n\tat py4j.reflection.MethodInvoker.invoke(MethodInvoker.java:244)\n\tat py4j.reflection.ReflectionEngine.invoke(ReflectionEngine.java:357)\n\tat py4j.Gateway.invoke(Gateway.java:282)\n\tat py4j.commands.AbstractCommand.invokeMethod(AbstractCommand.java:132)\n\tat py4j.commands.CallCommand.execute(CallCommand.java:79)\n\tat py4j.GatewayConnection.run(GatewayConnection.java:238)\n\tat java.base/java.lang.Thread.run(Thread.java:829)\nCaused by: java.lang.OutOfMemoryError: Java heap space\n\tat java.base/java.util.Arrays.copyOf(Arrays.java:3745)\n\tat java.base/java.io.ByteArrayOutputStream.grow(ByteArrayOutputStream.java:120)\n\tat java.base/java.io.ByteArrayOutputStream.ensureCapacity(ByteArrayOutputStream.java:95)\n\tat java.base/java.io.ByteArrayOutputStream.write(ByteArrayOutputStream.java:156)\n\tat org.apache.spark.util.ByteBufferOutputStream.write(ByteBufferOutputStream.scala:41)\n\tat java.base/java.io.ObjectOutputStream$BlockDataOutputStream.drain(ObjectOutputStream.java:1883)\n\tat java.base/java.io.ObjectOutputStream$BlockDataOutputStream.setBlockDataMode(ObjectOutputStream.java:1792)\n\tat java.base/java.io.ObjectOutputStream.writeObject0(ObjectOutputStream.java:1190)\n\tat java.base/java.io.ObjectOutputStream.writeObject(ObjectOutputStream.java:349)\n\tat org.apache.spark.serializer.JavaSerializationStream.writeObject(JavaSerializer.scala:44)\n\tat org.apache.spark.serializer.JavaSerializerInstance.serialize(JavaSerializer.scala:101)\n\tat org.apache.spark.executor.Executor$TaskRunner.run(Executor.scala:542)\n\tat java.base/java.util.concurrent.ThreadPoolExecutor.runWorker(ThreadPoolExecutor.java:1128)\n\tat java.base/java.util.concurrent.ThreadPoolExecutor$Worker.run(ThreadPoolExecutor.java:628)\n\t... 1 more\n"
          ]
        }
      ]
    },
    {
      "cell_type": "code",
      "metadata": {
        "id": "QR6vVIfILIzJ"
      },
      "source": [
        ""
      ],
      "execution_count": null,
      "outputs": []
    }
  ]
}