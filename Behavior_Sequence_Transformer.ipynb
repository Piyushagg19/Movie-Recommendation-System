{
  "nbformat": 4,
  "nbformat_minor": 0,
  "metadata": {
    "colab": {
      "name": "Behavior Sequence Transformer.ipynb",
      "provenance": [],
      "collapsed_sections": []
    },
    "kernelspec": {
      "name": "python3",
      "display_name": "Python 3"
    },
    "language_info": {
      "name": "python"
    },
    "accelerator": "GPU"
  },
  "cells": [
    {
      "cell_type": "markdown",
      "metadata": {
        "id": "xd9RytbvMKxg"
      },
      "source": [
        "## Importing Libraries"
      ]
    },
    {
      "cell_type": "code",
      "metadata": {
        "id": "N6W9vJXxsWEY"
      },
      "source": [
        "import torch\n",
        "import torch.nn as nn\n",
        "from tensorflow.keras.layers import StringLookup\n",
        "from tqdm import tqdm\n",
        "from tensorflow.keras import layers\n",
        "import pandas as pd\n",
        "import math\n",
        "import tensorflow as tf\n",
        "import numpy as np\n",
        "from tensorflow import keras\n",
        "import os"
      ],
      "execution_count": null,
      "outputs": []
    },
    {
      "cell_type": "code",
      "metadata": {
        "id": "7zsG-MkWs-ER"
      },
      "source": [
        "dataset_path = 'drive/MyDrive/ADM/movielens/'"
      ],
      "execution_count": null,
      "outputs": []
    },
    {
      "cell_type": "code",
      "metadata": {
        "colab": {
          "base_uri": "https://localhost:8080/"
        },
        "id": "3GYYS4BcXCMK",
        "outputId": "b7b95450-f087-4c01-f20c-6764a955ba58"
      },
      "source": [
        "from google.colab import drive\n",
        "drive.mount('/content/drive')"
      ],
      "execution_count": null,
      "outputs": [
        {
          "output_type": "stream",
          "name": "stdout",
          "text": [
            "Drive already mounted at /content/drive; to attempt to forcibly remount, call drive.mount(\"/content/drive\", force_remount=True).\n"
          ]
        }
      ]
    },
    {
      "cell_type": "code",
      "metadata": {
        "colab": {
          "base_uri": "https://localhost:8080/"
        },
        "id": "86Xtm33Zuy9n",
        "outputId": "889b8dc2-4422-4545-949b-b0c10819652f"
      },
      "source": [
        "users_info = pd.read_csv(dataset_path + \"users.dat\", sep=\"::\", names=[\"user_id\", \"sex\", \"age_group\", \"occupation\", \"zip_code\"])\n",
        "\n",
        "movies_info = pd.read_csv(dataset_path + \"movies.dat\", sep=\"::\", names=[\"movie_id\", \"title\", \"genres\"])\n",
        "\n",
        "ratings_info = pd.read_csv(dataset_path + \"ratings.dat\", sep=\"::\", names=[\"user_id\", \"movie_id\", \"rating\", \"unix_timestamp\"])"
      ],
      "execution_count": null,
      "outputs": [
        {
          "output_type": "stream",
          "name": "stderr",
          "text": [
            "/usr/local/lib/python3.7/dist-packages/ipykernel_launcher.py:1: ParserWarning: Falling back to the 'python' engine because the 'c' engine does not support regex separators (separators > 1 char and different from '\\s+' are interpreted as regex); you can avoid this warning by specifying engine='python'.\n",
            "  \"\"\"Entry point for launching an IPython kernel.\n",
            "/usr/local/lib/python3.7/dist-packages/ipykernel_launcher.py:3: ParserWarning: Falling back to the 'python' engine because the 'c' engine does not support regex separators (separators > 1 char and different from '\\s+' are interpreted as regex); you can avoid this warning by specifying engine='python'.\n",
            "  This is separate from the ipykernel package so we can avoid doing imports until\n",
            "/usr/local/lib/python3.7/dist-packages/ipykernel_launcher.py:5: ParserWarning: Falling back to the 'python' engine because the 'c' engine does not support regex separators (separators > 1 char and different from '\\s+' are interpreted as regex); you can avoid this warning by specifying engine='python'.\n",
            "  \"\"\"\n"
          ]
        }
      ]
    },
    {
      "cell_type": "code",
      "metadata": {
        "id": "-nVXtmjuwxAY"
      },
      "source": [
        "users_info[\"occupation\"] = users_info[\"occupation\"].apply(lambda x: f\"occupation_{x}\")\n",
        "users_info[\"age_group\"] = users_info[\"age_group\"].apply(lambda x: f\"group_{x}\")\n",
        "users_info[\"user_id\"] = users_info[\"user_id\"].apply(lambda x: f\"user_{x}\")\n",
        "\n",
        "ratings_info[\"rating\"] = ratings_info[\"rating\"].apply(lambda x: float(x))\n",
        "ratings_info[\"user_id\"] = ratings_info[\"user_id\"].apply(lambda x: f\"user_{x}\")\n",
        "ratings_info[\"movie_id\"] = ratings_info[\"movie_id\"].apply(lambda x: f\"movie_{x}\")\n",
        "\n",
        "movies_info[\"movie_id\"] = movies_info[\"movie_id\"].apply(lambda x: f\"movie_{x}\")"
      ],
      "execution_count": null,
      "outputs": []
    },
    {
      "cell_type": "code",
      "metadata": {
        "id": "wUT5ikXC4hYK"
      },
      "source": [
        "genres = [\n",
        "    \"Action\",\n",
        "    \"Sci-Fi\",\n",
        "    \"Thriller\",\n",
        "    \"Adventure\",\n",
        "    \"Crime\",\n",
        "    \"Romance\",\n",
        "    \"War\",\n",
        "    \"Documentary\",\n",
        "    \"Animation\",\n",
        "    \"Children's\",\n",
        "    \"Musical\",\n",
        "    \"Drama\",\n",
        "    \"Fantasy\",\n",
        "    \"Mystery\",\n",
        "    \"Western\",\n",
        "    \"Comedy\",\n",
        "    \"Film-Noir\",\n",
        "    \"Horror\",\n",
        "]\n",
        "\n",
        "for val in genres:\n",
        "    movies_info[val] = movies_info[\"genres\"].apply(\n",
        "        lambda values: int(val in values.split(\"|\"))\n",
        "    )"
      ],
      "execution_count": null,
      "outputs": []
    },
    {
      "cell_type": "code",
      "metadata": {
        "id": "RWl1Q9KT46wR"
      },
      "source": [
        "group_ratings = ratings_info.sort_values(by=[\"unix_timestamp\"]).groupby(\"user_id\")\n",
        "\n",
        "data_ratings = pd.DataFrame(\n",
        "    data={\n",
        "        \"ratings\": list(group_ratings.rating.apply(list)),\n",
        "        \"user_id\": list(group_ratings.groups.keys()),\n",
        "        \"timestamps\": list(group_ratings.unix_timestamp.apply(list)),\n",
        "        \"movie_ids\": list(group_ratings.movie_id.apply(list))\n",
        "    }\n",
        ")"
      ],
      "execution_count": null,
      "outputs": []
    },
    {
      "cell_type": "code",
      "metadata": {
        "id": "lFXSj1m9wrBy"
      },
      "source": [
        "def generate_seq(values, win_size, steps):\n",
        "    sequences = []\n",
        "    begin = 0\n",
        "    while True:\n",
        "        end = begin + win_size\n",
        "        seq = values[begin:end]\n",
        "        if len(seq) < win_size:\n",
        "            seq = values[-win_size:]\n",
        "            if len(seq) == win_size:\n",
        "                sequences.append(seq)\n",
        "            break\n",
        "        sequences.append(seq)\n",
        "        begin += steps\n",
        "    return sequences\n",
        "\n",
        "data_ratings.movie_ids = data_ratings.movie_ids.apply(\n",
        "    lambda ids: generate_seq(ids, 4, 2))\n",
        "\n",
        "data_ratings.ratings = data_ratings.ratings.apply(\n",
        "    lambda ids: generate_seq(ids, 4, 2))\n",
        "\n",
        "del data_ratings[\"timestamps\"]"
      ],
      "execution_count": null,
      "outputs": []
    },
    {
      "cell_type": "code",
      "metadata": {
        "id": "vx3NAtJi7GIL"
      },
      "source": [
        "movies_in_ratings_data = data_ratings[[\"user_id\", \"movie_ids\"]].explode(\n",
        "    \"movie_ids\", ignore_index=True)\n",
        "rating_in_ratings_data = data_ratings[[\"ratings\"]].explode(\n",
        "    \"ratings\", ignore_index=True)\n",
        "transformed_ratings_data = pd.concat([movies_in_ratings_data, \n",
        "                                      rating_in_ratings_data], axis=1)\n",
        "transformed_ratings_data = transformed_ratings_data.join(\n",
        "    users_info.set_index(\"user_id\"), on=\"user_id\")\n",
        "\n",
        "transformed_ratings_data.ratings = transformed_ratings_data.ratings.apply( lambda y: \",\".join([str(c) for c in y]))\n",
        "transformed_ratings_data.movie_ids = transformed_ratings_data.movie_ids.apply(lambda b: \",\".join(b))\n",
        "\n",
        "del transformed_ratings_data[\"zip_code\"]\n",
        "\n",
        "transformed_ratings_data.rename(\n",
        "    columns={\"movie_ids\": \"sequence_movie_ids\", \"ratings\": \"seq_ratings\"},\n",
        "    inplace=True,\n",
        ")"
      ],
      "execution_count": null,
      "outputs": []
    },
    {
      "cell_type": "code",
      "metadata": {
        "colab": {
          "base_uri": "https://localhost:8080/",
          "height": 204
        },
        "id": "En-3CBGL8w6y",
        "outputId": "eddffd24-bcca-47c6-eeaa-30d8814f5737"
      },
      "source": [
        "transformed_ratings_data.head()"
      ],
      "execution_count": null,
      "outputs": [
        {
          "output_type": "execute_result",
          "data": {
            "text/html": [
              "<div>\n",
              "<style scoped>\n",
              "    .dataframe tbody tr th:only-of-type {\n",
              "        vertical-align: middle;\n",
              "    }\n",
              "\n",
              "    .dataframe tbody tr th {\n",
              "        vertical-align: top;\n",
              "    }\n",
              "\n",
              "    .dataframe thead th {\n",
              "        text-align: right;\n",
              "    }\n",
              "</style>\n",
              "<table border=\"1\" class=\"dataframe\">\n",
              "  <thead>\n",
              "    <tr style=\"text-align: right;\">\n",
              "      <th></th>\n",
              "      <th>user_id</th>\n",
              "      <th>sequence_movie_ids</th>\n",
              "      <th>seq_ratings</th>\n",
              "      <th>sex</th>\n",
              "      <th>age_group</th>\n",
              "      <th>occupation</th>\n",
              "    </tr>\n",
              "  </thead>\n",
              "  <tbody>\n",
              "    <tr>\n",
              "      <th>0</th>\n",
              "      <td>user_1</td>\n",
              "      <td>movie_3186,movie_1721,movie_1270,movie_1022</td>\n",
              "      <td>4.0,4.0,5.0,5.0</td>\n",
              "      <td>F</td>\n",
              "      <td>group_1</td>\n",
              "      <td>occupation_10</td>\n",
              "    </tr>\n",
              "    <tr>\n",
              "      <th>1</th>\n",
              "      <td>user_1</td>\n",
              "      <td>movie_1270,movie_1022,movie_2340,movie_1836</td>\n",
              "      <td>5.0,5.0,3.0,5.0</td>\n",
              "      <td>F</td>\n",
              "      <td>group_1</td>\n",
              "      <td>occupation_10</td>\n",
              "    </tr>\n",
              "    <tr>\n",
              "      <th>2</th>\n",
              "      <td>user_1</td>\n",
              "      <td>movie_2340,movie_1836,movie_3408,movie_1207</td>\n",
              "      <td>3.0,5.0,4.0,4.0</td>\n",
              "      <td>F</td>\n",
              "      <td>group_1</td>\n",
              "      <td>occupation_10</td>\n",
              "    </tr>\n",
              "    <tr>\n",
              "      <th>3</th>\n",
              "      <td>user_1</td>\n",
              "      <td>movie_3408,movie_1207,movie_2804,movie_260</td>\n",
              "      <td>4.0,4.0,5.0,4.0</td>\n",
              "      <td>F</td>\n",
              "      <td>group_1</td>\n",
              "      <td>occupation_10</td>\n",
              "    </tr>\n",
              "    <tr>\n",
              "      <th>4</th>\n",
              "      <td>user_1</td>\n",
              "      <td>movie_2804,movie_260,movie_720,movie_1193</td>\n",
              "      <td>5.0,4.0,3.0,5.0</td>\n",
              "      <td>F</td>\n",
              "      <td>group_1</td>\n",
              "      <td>occupation_10</td>\n",
              "    </tr>\n",
              "  </tbody>\n",
              "</table>\n",
              "</div>"
            ],
            "text/plain": [
              "  user_id                           sequence_movie_ids  ... age_group     occupation\n",
              "0  user_1  movie_3186,movie_1721,movie_1270,movie_1022  ...   group_1  occupation_10\n",
              "1  user_1  movie_1270,movie_1022,movie_2340,movie_1836  ...   group_1  occupation_10\n",
              "2  user_1  movie_2340,movie_1836,movie_3408,movie_1207  ...   group_1  occupation_10\n",
              "3  user_1   movie_3408,movie_1207,movie_2804,movie_260  ...   group_1  occupation_10\n",
              "4  user_1    movie_2804,movie_260,movie_720,movie_1193  ...   group_1  occupation_10\n",
              "\n",
              "[5 rows x 6 columns]"
            ]
          },
          "metadata": {},
          "execution_count": 53
        }
      ]
    },
    {
      "cell_type": "code",
      "metadata": {
        "id": "woPOtzSBu-HV"
      },
      "source": [
        "random_partition = np.random.rand(len(transformed_ratings_data.index)) <= 0.799\n",
        "train_data = transformed_ratings_data[random_partition]\n",
        "test_data = transformed_ratings_data[~random_partition]\n",
        "\n",
        "test_data.to_csv(dataset_path + \"test_data.csv\", index=False, sep=\"|\", header=False)\n",
        "train_data.to_csv(dataset_path + \"train_data.csv\", index=False, sep=\"|\", header=False)"
      ],
      "execution_count": null,
      "outputs": []
    },
    {
      "cell_type": "code",
      "metadata": {
        "id": "uI7MMXj7HhZA"
      },
      "source": [
        "csv_HEADER = list(transformed_ratings_data.columns)\n",
        "\n",
        "CATEGORICAL_FEAT_WITH_VOCAB = {\n",
        "    \"occupation\": list(users_info.occupation.unique()),\n",
        "    \"sex\": list(users_info.sex.unique()),\n",
        "    \"user_id\": list(users_info.user_id.unique()),\n",
        "    \"age_group\": list(users_info.age_group.unique()),\n",
        "    \"movie_id\": list(movies_info.movie_id.unique())\n",
        "}\n",
        "\n",
        "movie_feat = [\"genres\"]\n",
        "user_feat = [\"sex\", \"age_group\", \"occupation\"]"
      ],
      "execution_count": null,
      "outputs": []
    },
    {
      "cell_type": "code",
      "metadata": {
        "id": "Fw7ESjOvH9-P"
      },
      "source": [
        "def getData_from_csv(csv_file_path, shuffle=False, batches=128):\n",
        "    def function(feat):\n",
        "        movie_ids_str = feat[\"sequence_movie_ids\"]\n",
        "        sequence_movie_ids = tf.strings.split(movie_ids_str, \",\").to_tensor()\n",
        "\n",
        "        feat[\"sequence_movie_ids\"] = sequence_movie_ids[:, :-1]\n",
        "        feat[\"target_movieID\"] = sequence_movie_ids[:, -1]\n",
        "\n",
        "        ratings_str = feat[\"seq_ratings\"]\n",
        "        seq_ratings = tf.strings.to_number(\n",
        "            tf.strings.split(ratings_str, \",\"), tf.dtypes.float32\n",
        "        ).to_tensor()\n",
        "\n",
        "        trg = seq_ratings[:, -1]\n",
        "        feat[\"seq_ratings\"] = seq_ratings[:, :-1]\n",
        "\n",
        "        return feat, trg\n",
        "\n",
        "    df = tf.data.experimental.make_csv_dataset(csv_file_path, batch_size=batches, column_names=csv_HEADER, num_epochs=1, header=False, field_delim=\"|\",shuffle=shuffle,).map(function)\n",
        "\n",
        "    return df"
      ],
      "execution_count": null,
      "outputs": []
    },
    {
      "cell_type": "code",
      "metadata": {
        "id": "uZBh1eoiJWHO"
      },
      "source": [
        "def generate_model_inputs():\n",
        "    return {\n",
        "        \"seq_ratings\": layers.Input(\n",
        "            name=\"seq_ratings\", shape=(3,), dtype=tf.float32\n",
        "        ),\n",
        "        \"age_group\": layers.Input(name=\"age_group\", shape=(1,), dtype=tf.string),\n",
        "        \"occupation\": layers.Input(name=\"occupation\", shape=(1,), dtype=tf.string),\n",
        "        \"user_id\": layers.Input(name=\"user_id\", shape=(1,), dtype=tf.string),\n",
        "        \"target_movieID\": layers.Input(\n",
        "            name=\"target_movieID\", shape=(1,), dtype=tf.string\n",
        "        ),\n",
        "        \"sex\": layers.Input(name=\"sex\", shape=(1,), dtype=tf.string),\n",
        "        \"sequence_movie_ids\": layers.Input(\n",
        "            name=\"sequence_movie_ids\", shape=(3,), \n",
        "            dtype=tf.string\n",
        "        ),\n",
        "    }"
      ],
      "execution_count": null,
      "outputs": []
    },
    {
      "cell_type": "code",
      "metadata": {
        "id": "ThecBdmBKce-"
      },
      "source": [
        "def encode_ip_feat(ip, add_user_id=True, add_user_feat=True, add_movie_feat=True):\n",
        "\n",
        "    other_feats = []\n",
        "    encoded_feat_other = []\n",
        "    transf_feat_encoded = []\n",
        "\n",
        "    if add_user_feat:\n",
        "        other_feats.extend(user_feat)\n",
        "    if add_user_id:\n",
        "        other_feats.append(\"user_id\")\n",
        "\n",
        "    for feat in other_feats:\n",
        "        vocab = CATEGORICAL_FEAT_WITH_VOCAB[feat]\n",
        "        idx = StringLookup(vocab=vocab, mask_token=None, num_oov_indices=0)(ip[feat])\n",
        "        embedding_dims = int(math.sqrt(len(vocab)))\n",
        "        embedding_encoder = layers.Embedding(input_dim=len(vocab),output_dim=embedding_dims,name=f\"{feat}_embedding\",)\n",
        "        encoded_feat_other.append(embedding_encoder(idx))\n",
        "\n",
        "    if len(encoded_feat_other) > 1:\n",
        "        encoded_feat_other = layers.concatenate(encoded_feat_other)\n",
        "    elif len(encoded_feat_other) == 1:\n",
        "        encoded_feat_other = encoded_feat_other[0]\n",
        "    else:\n",
        "        encoded_feat_other = None\n",
        "\n",
        "    movie_vocab = CATEGORICAL_FEAT_WITH_VOCAB[\"movie_id\"]\n",
        "    movie_embed_dims = int(math.sqrt(len(movie_vocab)))\n",
        "    \n",
        "    movie_index_search = StringLookup(vocabulary=movie_vocab,mask_token=None,num_oov_indices=0,name=\"movie_index_search\",)\n",
        "    movie_embed_encoder = layers.Embedding(input_dim=len(movie_vocab),output_dim=movie_embed_dims,name=f\"movie_embedding\",)\n",
        "    genre_vec = movies_info[genres].to_numpy()\n",
        "    movie_genres_search = layers.Embedding(input_dim=genre_vec.shape[0],output_dim=genre_vec.shape[1],embeddings_initializer=tf.keras.initializers.Constant(genre_vec),trainable=False,name=\"genres_vector\",)\n",
        "    movie_embed_process = layers.Dense(units=movie_embed_dims,activation=\"relu\",name=\"process_movie_embedding_with_genres\",)\n",
        "\n",
        "    def movie_encode(movie_id):\n",
        "        movie_idx = movie_index_search(movie_id)\n",
        "        movie_embed = movie_embed_encoder(movie_idx)\n",
        "        movie_encoded = movie_embed\n",
        "        if add_movie_feat:\n",
        "          movie_genres_vector = movie_genres_search(movie_idx)\n",
        "          movie_encoded = movie_embed_process(layers.concatenate([movie_embed, movie_genres_vector]))\n",
        "        return movie_encoded\n",
        "\n",
        "    target_movieID = ip[\"target_movieID\"]\n",
        "    target_movie_encoded = movie_encode(target_movieID)\n",
        "\n",
        "    sequence_moviesIDs = ip[\"sequence_movie_ids\"]\n",
        "    seq_movies_encoded = movie_encode(sequence_moviesIDs)\n",
        "    pos_embed_encoder = layers.Embedding(input_dim=4,output_dim=movie_embed_dims,name=\"position_embedding\",)\n",
        "    pos = tf.range(start=0, limit=3, delta=1)\n",
        "    pos_encoded = pos_embed_encoder(pos)\n",
        "    seq_ratings = tf.expand_dims(ip[\"seq_ratings\"], -1)\n",
        "    seq_movies_encoded_with_pos_and_rating = layers.Multiply()([(seq_movies_encoded + pos_encoded), seq_ratings])\n",
        "\n",
        "    for movie_encoded in tf.unstack(seq_movies_encoded_with_pos_and_rating, axis=1):\n",
        "      transf_feat_encoded.append(tf.expand_dims(movie_encoded, 1))\n",
        "      \n",
        "    transf_feat_encoded.append(target_movie_encoded)\n",
        "    transf_feat_encoded = layers.concatenate(transf_feat_encoded, axis=1)\n",
        "\n",
        "    return transf_feat_encoded, encoded_feat_other"
      ],
      "execution_count": null,
      "outputs": []
    },
    {
      "cell_type": "code",
      "metadata": {
        "id": "gBks7BDCLObH"
      },
      "source": [
        "add_movie_feat = add_user_feat = add_user_id = False\n",
        "\n",
        "hidden_neurons = [256, 128]\n",
        "num_heads = 3\n",
        "\n",
        "\n",
        "def generate_model():\n",
        "    ip = generate_model_inputs()\n",
        "    transf_feat, other_feat = encode_ip_feat(ip, add_user_id, add_user_feat, add_movie_feat)\n",
        "\n",
        "    attention_model_op = layers.MultiHeadAttention(\n",
        "        num_heads=num_heads, key_dim=transf_feat.shape[2], dropout=0.1)(transf_feat, transf_feat)\n",
        "\n",
        "    attention_model_op = layers.Dropout(0.1)(attention_model_op)\n",
        "    y1 = layers.Add()([transf_feat, attention_model_op])\n",
        "    y1 = layers.LayerNormalization()(y1)\n",
        "    y2 = layers.LeakyReLU()(y1)\n",
        "    y2 = layers.Dense(units=y2.shape[-1])(y2)\n",
        "    y2 = layers.Dropout(0.1)(y2)\n",
        "    transf_feat = layers.Add()([y1, y2])\n",
        "    transf_feat = layers.LayerNormalization()(transf_feat)\n",
        "    feat = layers.Flatten()(transf_feat)\n",
        "\n",
        "    if other_feat is not None:\n",
        "        feat = layers.concatenate([feat, layers.Reshape([other_feat.shape[-1]])(other_feat)]\n",
        "\n",
        "    for unit in hidden_neurons:\n",
        "        feat = layers.Dense(unit)(feat)\n",
        "        feat = layers.BatchNormalization()(feat)\n",
        "        feat = layers.LeakyReLU()(feat)\n",
        "        feat = layers.Dropout(0.1)(feat)\n",
        "\n",
        "    op = layers.Dense(units=1)(feat)\n",
        "    model = keras.Model(inputs=ip, outputs=op)\n",
        "    return model\n",
        "\n",
        "\n",
        "model = generate_model()"
      ],
      "execution_count": null,
      "outputs": []
    },
    {
      "cell_type": "code",
      "metadata": {
        "id": "_x3p4wSsMotG"
      },
      "source": [
        "model.compile(optimizer=keras.optimizers.Adagrad(learning_rate=0.01),loss=keras.losses.MeanSquaredError(),metrics=[keras.metrics.MeanAbsoluteError(), keras.metrics.RootMeanSquaredError()],)\n",
        "\n",
        "train_df = getData_from_csv(dataset_path + \"train_data.csv\", shuffle=True, batches=265)\n"
      ],
      "execution_count": null,
      "outputs": []
    },
    {
      "cell_type": "code",
      "metadata": {
        "colab": {
          "base_uri": "https://localhost:8080/"
        },
        "id": "y8kAYSnlmUh2",
        "outputId": "1cc9909a-f6fb-4c42-dc46-bcac8726ecb3"
      },
      "source": [
        "hist = model.fit(train_df, epochs=10)"
      ],
      "execution_count": null,
      "outputs": [
        {
          "output_type": "stream",
          "name": "stdout",
          "text": [
            "Epoch 1/10\n",
            "1601/1601 [==============================] - 30s 18ms/step - loss: 1.2859 - mean_absolute_error: 0.8965 - root_mean_squared_error: 1.1340\n",
            "Epoch 2/10\n",
            "1601/1601 [==============================] - 28s 18ms/step - loss: 1.0208 - mean_absolute_error: 0.8055 - root_mean_squared_error: 1.0104\n",
            "Epoch 3/10\n",
            "1601/1601 [==============================] - 28s 18ms/step - loss: 0.9628 - mean_absolute_error: 0.7822 - root_mean_squared_error: 0.9812\n",
            "Epoch 4/10\n",
            "1601/1601 [==============================] - 28s 18ms/step - loss: 0.9326 - mean_absolute_error: 0.7695 - root_mean_squared_error: 0.9657\n",
            "Epoch 5/10\n",
            "1601/1601 [==============================] - 28s 18ms/step - loss: 0.9112 - mean_absolute_error: 0.7597 - root_mean_squared_error: 0.9546\n",
            "Epoch 6/10\n",
            "1601/1601 [==============================] - 28s 18ms/step - loss: 0.8949 - mean_absolute_error: 0.7527 - root_mean_squared_error: 0.9460\n",
            "Epoch 7/10\n",
            "1601/1601 [==============================] - 28s 18ms/step - loss: 0.8847 - mean_absolute_error: 0.7482 - root_mean_squared_error: 0.9406\n",
            "Epoch 8/10\n",
            "1601/1601 [==============================] - 29s 18ms/step - loss: 0.8741 - mean_absolute_error: 0.7436 - root_mean_squared_error: 0.9349\n",
            "Epoch 9/10\n",
            "1601/1601 [==============================] - 28s 18ms/step - loss: 0.8663 - mean_absolute_error: 0.7405 - root_mean_squared_error: 0.9307\n",
            "Epoch 10/10\n",
            "1601/1601 [==============================] - 29s 18ms/step - loss: 0.8583 - mean_absolute_error: 0.7367 - root_mean_squared_error: 0.9264\n"
          ]
        }
      ]
    },
    {
      "cell_type": "code",
      "metadata": {
        "colab": {
          "base_uri": "https://localhost:8080/"
        },
        "id": "VzsYjNHrZk5H",
        "outputId": "5b54c642-75f5-416f-8090-906c230c6f19"
      },
      "source": [
        "model.save(dataset_path + 'BST.h5')"
      ],
      "execution_count": null,
      "outputs": [
        {
          "output_type": "stream",
          "name": "stderr",
          "text": [
            "/usr/local/lib/python3.7/dist-packages/keras/utils/generic_utils.py:497: CustomMaskWarning: Custom mask layers require a config and must override get_config. When loading, the custom mask layer must be passed to the custom_objects argument.\n",
            "  category=CustomMaskWarning)\n"
          ]
        }
      ]
    },
    {
      "cell_type": "markdown",
      "metadata": {
        "id": "UMfuzoprQ9sk"
      },
      "source": [
        "### Loading Saved Model"
      ]
    },
    {
      "cell_type": "code",
      "metadata": {
        "id": "JY2VPsTxRBAy"
      },
      "source": [
        "model = tf.keras.models.load_model(dataset_path + 'BST.h5')"
      ],
      "execution_count": null,
      "outputs": []
    },
    {
      "cell_type": "markdown",
      "metadata": {
        "id": "5gsscaDynVpL"
      },
      "source": [
        "### Testing"
      ]
    },
    {
      "cell_type": "code",
      "metadata": {
        "colab": {
          "base_uri": "https://localhost:8080/"
        },
        "id": "OodozRcKWj8N",
        "outputId": "c148c166-dfe5-4392-e499-ae646f7cccc8"
      },
      "source": [
        "test_df = getData_from_csv(dataset_path + \"test_data.csv\", batches=265)\n",
        "\n",
        "_, MAE, RMSE = model.evaluate(test_df, verbose=0)\n",
        "print(f\"Test MAE: {round(MAE, 3)}\")\n",
        "print(f\"Test RMSE : {round(RMSE, 3)}\")"
      ],
      "execution_count": null,
      "outputs": [
        {
          "output_type": "stream",
          "name": "stdout",
          "text": [
            "Test MAE: 0.762\n",
            "Test RMSE : 0.95\n"
          ]
        }
      ]
    },
    {
      "cell_type": "code",
      "metadata": {
        "colab": {
          "base_uri": "https://localhost:8080/",
          "height": 350
        },
        "id": "4j31vKl2XRQm",
        "outputId": "86aade87-eab5-4fd1-9f08-e2ab1c8503a3"
      },
      "source": [
        "from pylab import rcParams\n",
        "rcParams['figure.figsize'] = 10, 5\n",
        "import matplotlib.pyplot as plt\n",
        "plt.plot(hist.history['loss'] , 'g')\n",
        "plt.title('model loss')\n",
        "plt.ylabel('loss')\n",
        "plt.xlabel('epochs')\n",
        "plt.legend(['train'], loc='upper right')\n",
        "plt.grid(True)\n",
        "plt.show()"
      ],
      "execution_count": null,
      "outputs": [
        {
          "output_type": "display_data",
          "data": {
            "image/png": "[encoded data removed]",
            "text/plain": [
              "<Figure size 720x360 with 1 Axes>"
            ]
          },
          "metadata": {
            "needs_background": "light"
          }
        }
      ]
    },
    {
      "cell_type": "code",
      "metadata": {
        "id": "Rt6ZIF2TXpBu"
      },
      "source": [
        ""
      ],
      "execution_count": null,
      "outputs": []
    }
  ]
}